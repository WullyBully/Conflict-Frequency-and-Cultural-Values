{
 "cells": [
  {
   "cell_type": "code",
   "execution_count": 2,
   "metadata": {},
   "outputs": [],
   "source": [
    "import pandas as pd\n",
    "from country_converter import CountryConverter\n",
    "\n",
    "path1 = \"C:\\\\Users\\\\Brady\\\\Dropbox\\\\Econometrics\\\\Conflict Frequency and Cultural Values\\\\Datasets\\\\conflict.dta\"\n",
    "\n",
    "df1 = pd.read_stata(path1)\n"
   ]
  },
  {
   "cell_type": "code",
   "execution_count": null,
   "metadata": {},
   "outputs": [],
   "source": [
    "path2 = \"C:\\\\Users\\\\Brady\\\\Dropbox\\\\Econometrics\\\\Conflict Frequency and Cultural Values\\\\Datasets\\\\survey_working.dta\"\n",
    "df2 = pd.read_stata(path2, convert_categoricals=False)\n",
    "df2.B_COUNTRY\n"
   ]
  },
  {
   "cell_type": "code",
   "execution_count": null,
   "metadata": {},
   "outputs": [],
   "source": [
    "df2 = df2[df2.B_COUNTRY != 909]\n",
    "df2.B_COUNTRY"
   ]
  },
  {
   "cell_type": "code",
   "execution_count": null,
   "metadata": {},
   "outputs": [],
   "source": [
    "df2['Country'] = df2.B_COUNTRY.apply(lambda code: CountryConverter().convert(code, to='name_short'))\n",
    "df2['Country']\n"
   ]
  },
  {
   "cell_type": "code",
   "execution_count": null,
   "metadata": {},
   "outputs": [],
   "source": [
    "df2.to_stata(\"Datasets/survey_working2.dta\")"
   ]
  },
  {
   "cell_type": "code",
   "execution_count": 17,
   "metadata": {},
   "outputs": [
    {
     "data": {
      "text/plain": [
       "0           Mexico\n",
       "1           Mexico\n",
       "2       Mozambique\n",
       "3       Mozambique\n",
       "4       Mozambique\n",
       "           ...    \n",
       "2621        Angola\n",
       "2622        Angola\n",
       "2623        Angola\n",
       "2624        Angola\n",
       "2625        Angola\n",
       "Name: Country, Length: 2626, dtype: object"
      ]
     },
     "execution_count": 17,
     "metadata": {},
     "output_type": "execute_result"
    }
   ],
   "source": [
    "df1['Country'] = df1.side_a.str.replace('Government of ', '')\n",
    "df1['Country'] = df1.Country.str.replace(' of America', '')\n",
    "df1.Country"
   ]
  },
  {
   "cell_type": "code",
   "execution_count": 18,
   "metadata": {},
   "outputs": [
    {
     "data": {
      "text/html": [
       "<div>\n",
       "<style scoped>\n",
       "    .dataframe tbody tr th:only-of-type {\n",
       "        vertical-align: middle;\n",
       "    }\n",
       "\n",
       "    .dataframe tbody tr th {\n",
       "        vertical-align: top;\n",
       "    }\n",
       "\n",
       "    .dataframe thead th {\n",
       "        text-align: right;\n",
       "    }\n",
       "</style>\n",
       "<table border=\"1\" class=\"dataframe\">\n",
       "  <thead>\n",
       "    <tr style=\"text-align: right;\">\n",
       "      <th></th>\n",
       "      <th>Country</th>\n",
       "      <th>Duration</th>\n",
       "    </tr>\n",
       "  </thead>\n",
       "  <tbody>\n",
       "    <tr>\n",
       "      <th>0</th>\n",
       "      <td>Afghanistan</td>\n",
       "      <td>38.0</td>\n",
       "    </tr>\n",
       "    <tr>\n",
       "      <th>1</th>\n",
       "      <td>Albania</td>\n",
       "      <td>70.0</td>\n",
       "    </tr>\n",
       "    <tr>\n",
       "      <th>2</th>\n",
       "      <td>Algeria</td>\n",
       "      <td>13130.0</td>\n",
       "    </tr>\n",
       "    <tr>\n",
       "      <th>3</th>\n",
       "      <td>Angola</td>\n",
       "      <td>21110.0</td>\n",
       "    </tr>\n",
       "    <tr>\n",
       "      <th>4</th>\n",
       "      <td>Argentina</td>\n",
       "      <td>8307.0</td>\n",
       "    </tr>\n",
       "    <tr>\n",
       "      <th>...</th>\n",
       "      <td>...</td>\n",
       "      <td>...</td>\n",
       "    </tr>\n",
       "    <tr>\n",
       "      <th>115</th>\n",
       "      <td>Uruguay</td>\n",
       "      <td>993.0</td>\n",
       "    </tr>\n",
       "    <tr>\n",
       "      <th>116</th>\n",
       "      <td>Uzbekistan</td>\n",
       "      <td>1991.0</td>\n",
       "    </tr>\n",
       "    <tr>\n",
       "      <th>117</th>\n",
       "      <td>Venezuela</td>\n",
       "      <td>11135.0</td>\n",
       "    </tr>\n",
       "    <tr>\n",
       "      <th>118</th>\n",
       "      <td>Yemen (North Yemen)</td>\n",
       "      <td>14637.0</td>\n",
       "    </tr>\n",
       "    <tr>\n",
       "      <th>119</th>\n",
       "      <td>Zimbabwe (Rhodesia)</td>\n",
       "      <td>4984.0</td>\n",
       "    </tr>\n",
       "  </tbody>\n",
       "</table>\n",
       "<p>120 rows × 2 columns</p>\n",
       "</div>"
      ],
      "text/plain": [
       "                 Country  Duration\n",
       "0            Afghanistan      38.0\n",
       "1                Albania      70.0\n",
       "2                Algeria   13130.0\n",
       "3                 Angola   21110.0\n",
       "4              Argentina    8307.0\n",
       "..                   ...       ...\n",
       "115              Uruguay     993.0\n",
       "116           Uzbekistan    1991.0\n",
       "117            Venezuela   11135.0\n",
       "118  Yemen (North Yemen)   14637.0\n",
       "119  Zimbabwe (Rhodesia)    4984.0\n",
       "\n",
       "[120 rows x 2 columns]"
      ]
     },
     "execution_count": 18,
     "metadata": {},
     "output_type": "execute_result"
    }
   ],
   "source": [
    "df1.start_date = pd.to_datetime(df1.start_date)\n",
    "df1.ep_end_date = pd.to_datetime(df1.ep_end_date)\n",
    "df1['Duration'] = (df1.ep_end_date - df1.start_date).dt.days\n",
    "conflict_duration = df1.groupby(['Country', 'conflict_id'])['Duration'].max().reset_index()\n",
    "total_conflict_duration = conflict_duration.groupby('Country')['Duration'].sum().reset_index()\n",
    "total_conflict_duration"
   ]
  },
  {
   "cell_type": "code",
   "execution_count": null,
   "metadata": {},
   "outputs": [],
   "source": [
    "merged = pd.merge(df2, total_conflict_duration, on='Country', how='left', indicator=True)"
   ]
  },
  {
   "cell_type": "code",
   "execution_count": null,
   "metadata": {},
   "outputs": [],
   "source": [
    "merged.to_stata(\"Datasets/sur_con_m.dta\")"
   ]
  },
  {
   "cell_type": "code",
   "execution_count": null,
   "metadata": {},
   "outputs": [],
   "source": [
    "import matplotlib.pyplot as plt\n",
    "\n",
    "# Assuming 'total_country_duration' is the DataFrame with total conflict durations for each country\n",
    "# Sort the DataFrame by 'Country' in alphabetical order\n",
    "sorted_duration = total_conflict_duration.sort_values(by='Country')\n",
    "\n",
    "# Plotting the bar chart with increased figure size and rotated x-axis labels\n",
    "plt.figure(figsize=(14, 8))\n",
    "bars = plt.bar(sorted_duration['Country'], sorted_duration['Duration'])\n",
    "plt.xlabel('Country')\n",
    "plt.ylabel('Total Conflict Duration (days)')\n",
    "plt.title('Total Conflict Duration by Country')\n",
    "plt.xticks(rotation=45, ha='right')  # Rotate and adjust alignment of x-axis labels\n",
    "plt.tight_layout()\n",
    "\n",
    "# Add data labels above the bars for better visibility\n",
    "for bar in bars:\n",
    "    yval = bar.get_height()\n",
    "    plt.text(bar.get_x() + bar.get_width()/2, yval, round(yval, 2), ha='center', va='bottom', color='black')\n",
    "\n",
    "# Show the plot\n",
    "plt.show()\n"
   ]
  },
  {
   "cell_type": "code",
   "execution_count": 8,
   "metadata": {},
   "outputs": [
    {
     "name": "stderr",
     "output_type": "stream",
     "text": [
      "C:\\Users\\Brady\\AppData\\Local\\Temp\\ipykernel_13044\\302655068.py:2: UnicodeWarning: \n",
      "One or more strings in the dta file could not be decoded using utf-8, and\n",
      "so the fallback encoding of latin-1 is being used.  This can happen when a file\n",
      "has been incorrectly encoded by Stata or some other software. You should verify\n",
      "the string values returned are correct.\n",
      "  df_m = pd.read_stata(path_m, convert_categoricals=False)\n"
     ]
    },
    {
     "data": {
      "text/plain": [
       "0        862\n",
       "1        400\n",
       "2        531\n",
       "3         56\n",
       "4        400\n",
       "        ... \n",
       "45437    368\n",
       "45438    862\n",
       "45439    404\n",
       "45440    504\n",
       "45441    862\n",
       "Name: Q266, Length: 45442, dtype: int16"
      ]
     },
     "execution_count": 8,
     "metadata": {},
     "output_type": "execute_result"
    }
   ],
   "source": [
    "path_m = \"C:\\\\Users\\\\Brady\\\\Dropbox\\\\Econometrics\\\\Conflict Frequency and Cultural Values\\\\sur_con_m_working2.dta\"\n",
    "df_m = pd.read_stata(path_m, convert_categoricals=False)\n",
    "df_m.Q266"
   ]
  },
  {
   "cell_type": "code",
   "execution_count": null,
   "metadata": {},
   "outputs": [],
   "source": [
    "df_m['c_origin'] = df_m['Q266'].apply(lambda code: CountryConverter().convert(code, to='name_short'))\n",
    "df_m['c_origin']\n"
   ]
  },
  {
   "cell_type": "code",
   "execution_count": 33,
   "metadata": {},
   "outputs": [],
   "source": [
    "merge_2 = pd.merge(df_m, total_conflict_duration, on='Country', how='left', indicator=True)\n"
   ]
  },
  {
   "cell_type": "code",
   "execution_count": 35,
   "metadata": {},
   "outputs": [],
   "source": [
    "merge_2.to_stata(\"Datasets\\sub_con_m_origin.dta\")"
   ]
  }
 ],
 "metadata": {
  "kernelspec": {
   "display_name": "Python 3",
   "language": "python",
   "name": "python3"
  },
  "language_info": {
   "codemirror_mode": {
    "name": "ipython",
    "version": 3
   },
   "file_extension": ".py",
   "mimetype": "text/x-python",
   "name": "python",
   "nbconvert_exporter": "python",
   "pygments_lexer": "ipython3",
   "version": "3.10.11"
  }
 },
 "nbformat": 4,
 "nbformat_minor": 2
}
